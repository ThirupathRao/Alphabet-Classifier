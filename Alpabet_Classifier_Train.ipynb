{
  "nbformat": 4,
  "nbformat_minor": 0,
  "metadata": {
    "colab": {
      "name": "Alpabet_Classifier_Model_3.ipynb",
      "provenance": [],
      "collapsed_sections": []
    },
    "kernelspec": {
      "display_name": "Python 3",
      "name": "python3"
    },
    "accelerator": "TPU"
  },
  "cells": [
    {
      "cell_type": "markdown",
      "metadata": {
        "colab_type": "text",
        "id": "rX8mhOLljYeM"
      },
      "source": [
        "##### Copyright 2019 The TensorFlow Authors."
      ]
    },
    {
      "cell_type": "code",
      "metadata": {
        "cellView": "form",
        "colab_type": "code",
        "id": "BZSlp3DAjdYf",
        "colab": {}
      },
      "source": [
        "#@title Licensed under the Apache License, Version 2.0 (the \"License\");\n",
        "# you may not use this file except in compliance with the License.\n",
        "# You may obtain a copy of the License at\n",
        "#\n",
        "# https://www.apache.org/licenses/LICENSE-2.0\n",
        "#\n",
        "# Unless required by applicable law or agreed to in writing, software\n",
        "# distributed under the License is distributed on an \"AS IS\" BASIS,\n",
        "# WITHOUT WARRANTIES OR CONDITIONS OF ANY KIND, either express or implied.\n",
        "# See the License for the specific language governing permissions and\n",
        "# limitations under the License."
      ],
      "execution_count": null,
      "outputs": []
    },
    {
      "cell_type": "code",
      "metadata": {
        "colab_type": "code",
        "id": "it1c0jCiNCIM",
        "colab": {
          "base_uri": "https://localhost:8080/",
          "height": 292
        },
        "outputId": "5de202a7-4010-4fdc-c120-daaaaa854f8e"
      },
      "source": [
        "!wget --no-check-certificate \"https://storage.googleapis.com/kaggle-data-sets/9726%2F17999%2Fbundle%2Farchive.zip?GoogleAccessId=gcp-kaggle-com@kaggle-161607.iam.gserviceaccount.com&Expires=1595422334&Signature=OhoO0QO6FME8Muu4Mhz6p%2FzqHqL4y9nKlhaBoUcVbfOLfnVXv22aQq1q%2B4DIY2m1ov%2FaDVO8EVOwISOnSWiphzb1hyyOAE5FNnfpwdGDLCQ3WFcdlQywsKaS6UB%2B%2Bf8rBglnZXG05Vt3WiSQe4Yh4MlzrNjvxZGE1cqC4epqPbrUA4qKCDsFuJrO5v7cPLjEtB9%2FDF8NTEG%2B0kf633Y0tIEidsQSRR2pmYw1CIFNlqELl5amcBl6axpFWxwCG2F2LLKXSYqQYhegHOMNHZLKfydngMi20EIYEQY%2BRSNPVb6rxmj%2Blr66R%2F5XbuJZu71wDBLndHQd678BtI0dl%2F0bBw%3D%3D\""
      ],
      "execution_count": null,
      "outputs": [
        {
          "output_type": "stream",
          "text": [
            "The name is too long, 487 chars total.\n",
            "Trying to shorten...\n",
            "New name is 9726%2F17999%2Fbundle%2Farchive.zip?GoogleAccessId=gcp-kaggle-com@kaggle-161607.iam.gserviceaccount.com&Expires=1595422334&Signature=OhoO0QO6FME8Muu4Mhz6p%2FzqHqL4y9nKlhaBoUcVbfOLfnVXv22aQq1q+4DIY2m1ov%2FaDVO8EVOwISOnSWiphzb1hyyOAE5FNnf.\n",
            "--2020-07-19 12:52:37--  https://storage.googleapis.com/kaggle-data-sets/9726%2F17999%2Fbundle%2Farchive.zip?GoogleAccessId=gcp-kaggle-com@kaggle-161607.iam.gserviceaccount.com&Expires=1595422334&Signature=OhoO0QO6FME8Muu4Mhz6p%2FzqHqL4y9nKlhaBoUcVbfOLfnVXv22aQq1q%2B4DIY2m1ov%2FaDVO8EVOwISOnSWiphzb1hyyOAE5FNnfpwdGDLCQ3WFcdlQywsKaS6UB%2B%2Bf8rBglnZXG05Vt3WiSQe4Yh4MlzrNjvxZGE1cqC4epqPbrUA4qKCDsFuJrO5v7cPLjEtB9%2FDF8NTEG%2B0kf633Y0tIEidsQSRR2pmYw1CIFNlqELl5amcBl6axpFWxwCG2F2LLKXSYqQYhegHOMNHZLKfydngMi20EIYEQY%2BRSNPVb6rxmj%2Blr66R%2F5XbuJZu71wDBLndHQd678BtI0dl%2F0bBw%3D%3D\n",
            "Resolving storage.googleapis.com (storage.googleapis.com)... 74.125.132.128, 74.125.202.128, 209.85.234.128, ...\n",
            "Connecting to storage.googleapis.com (storage.googleapis.com)|74.125.132.128|:443... connected.\n",
            "HTTP request sent, awaiting response... 200 OK\n",
            "Length: 193643888 (185M) [application/zip]\n",
            "Saving to: ‘9726%2F17999%2Fbundle%2Farchive.zip?GoogleAccessId=gcp-kaggle-com@kaggle-161607.iam.gserviceaccount.com&Expires=1595422334&Signature=OhoO0QO6FME8Muu4Mhz6p%2FzqHqL4y9nKlhaBoUcVbfOLfnVXv22aQq1q+4DIY2m1ov%2FaDVO8EVOwISOnSWiphzb1hyyOAE5FNnf’\n",
            "\n",
            "9726%2F17999%2Fbund 100%[===================>] 184.67M  79.8MB/s    in 2.3s    \n",
            "\n",
            "2020-07-19 12:52:40 (79.8 MB/s) - ‘9726%2F17999%2Fbundle%2Farchive.zip?GoogleAccessId=gcp-kaggle-com@kaggle-161607.iam.gserviceaccount.com&Expires=1595422334&Signature=OhoO0QO6FME8Muu4Mhz6p%2FzqHqL4y9nKlhaBoUcVbfOLfnVXv22aQq1q+4DIY2m1ov%2FaDVO8EVOwISOnSWiphzb1hyyOAE5FNnf’ saved [193643888/193643888]\n",
            "\n"
          ],
          "name": "stdout"
        }
      ]
    },
    {
      "cell_type": "code",
      "metadata": {
        "id": "wnmYkM_1OpC5",
        "colab_type": "code",
        "colab": {
          "base_uri": "https://localhost:8080/",
          "height": 1000
        },
        "outputId": "9f63024a-6842-410c-c1b4-a8a3fd9b8dd0"
      },
      "source": [
        "!pip install tensorflow==2.0.0"
      ],
      "execution_count": null,
      "outputs": [
        {
          "output_type": "stream",
          "text": [
            "Collecting tensorflow==2.0.0\n",
            "\u001b[?25l  Downloading https://files.pythonhosted.org/packages/46/0f/7bd55361168bb32796b360ad15a25de6966c9c1beb58a8e30c01c8279862/tensorflow-2.0.0-cp36-cp36m-manylinux2010_x86_64.whl (86.3MB)\n",
            "\u001b[K     |████████████████████████████████| 86.3MB 75kB/s \n",
            "\u001b[?25hRequirement already satisfied: google-pasta>=0.1.6 in /usr/local/lib/python3.6/dist-packages (from tensorflow==2.0.0) (0.2.0)\n",
            "Requirement already satisfied: wheel>=0.26 in /usr/local/lib/python3.6/dist-packages (from tensorflow==2.0.0) (0.34.2)\n",
            "Requirement already satisfied: termcolor>=1.1.0 in /usr/local/lib/python3.6/dist-packages (from tensorflow==2.0.0) (1.1.0)\n",
            "Requirement already satisfied: numpy<2.0,>=1.16.0 in /usr/local/lib/python3.6/dist-packages (from tensorflow==2.0.0) (1.18.5)\n",
            "Requirement already satisfied: protobuf>=3.6.1 in /usr/local/lib/python3.6/dist-packages (from tensorflow==2.0.0) (3.12.2)\n",
            "Requirement already satisfied: wrapt>=1.11.1 in /usr/local/lib/python3.6/dist-packages (from tensorflow==2.0.0) (1.12.1)\n",
            "Requirement already satisfied: keras-preprocessing>=1.0.5 in /usr/local/lib/python3.6/dist-packages (from tensorflow==2.0.0) (1.1.2)\n",
            "Requirement already satisfied: absl-py>=0.7.0 in /usr/local/lib/python3.6/dist-packages (from tensorflow==2.0.0) (0.9.0)\n",
            "Requirement already satisfied: opt-einsum>=2.3.2 in /usr/local/lib/python3.6/dist-packages (from tensorflow==2.0.0) (3.2.1)\n",
            "Collecting tensorboard<2.1.0,>=2.0.0\n",
            "\u001b[?25l  Downloading https://files.pythonhosted.org/packages/76/54/99b9d5d52d5cb732f099baaaf7740403e83fe6b0cedde940fabd2b13d75a/tensorboard-2.0.2-py3-none-any.whl (3.8MB)\n",
            "\u001b[K     |████████████████████████████████| 3.8MB 47.7MB/s \n",
            "\u001b[?25hCollecting tensorflow-estimator<2.1.0,>=2.0.0\n",
            "\u001b[?25l  Downloading https://files.pythonhosted.org/packages/fc/08/8b927337b7019c374719145d1dceba21a8bb909b93b1ad6f8fb7d22c1ca1/tensorflow_estimator-2.0.1-py2.py3-none-any.whl (449kB)\n",
            "\u001b[K     |████████████████████████████████| 450kB 45.4MB/s \n",
            "\u001b[?25hRequirement already satisfied: astor>=0.6.0 in /usr/local/lib/python3.6/dist-packages (from tensorflow==2.0.0) (0.8.1)\n",
            "Collecting gast==0.2.2\n",
            "  Downloading https://files.pythonhosted.org/packages/4e/35/11749bf99b2d4e3cceb4d55ca22590b0d7c2c62b9de38ac4a4a7f4687421/gast-0.2.2.tar.gz\n",
            "Requirement already satisfied: six>=1.10.0 in /usr/local/lib/python3.6/dist-packages (from tensorflow==2.0.0) (1.12.0)\n",
            "Requirement already satisfied: grpcio>=1.8.6 in /usr/local/lib/python3.6/dist-packages (from tensorflow==2.0.0) (1.30.0)\n",
            "Requirement already satisfied: keras-applications>=1.0.8 in /usr/local/lib/python3.6/dist-packages (from tensorflow==2.0.0) (1.0.8)\n",
            "Requirement already satisfied: setuptools in /usr/local/lib/python3.6/dist-packages (from protobuf>=3.6.1->tensorflow==2.0.0) (49.1.0)\n",
            "Requirement already satisfied: google-auth<2,>=1.6.3 in /usr/local/lib/python3.6/dist-packages (from tensorboard<2.1.0,>=2.0.0->tensorflow==2.0.0) (1.17.2)\n",
            "Requirement already satisfied: werkzeug>=0.11.15 in /usr/local/lib/python3.6/dist-packages (from tensorboard<2.1.0,>=2.0.0->tensorflow==2.0.0) (1.0.1)\n",
            "Requirement already satisfied: requests<3,>=2.21.0 in /usr/local/lib/python3.6/dist-packages (from tensorboard<2.1.0,>=2.0.0->tensorflow==2.0.0) (2.23.0)\n",
            "Requirement already satisfied: google-auth-oauthlib<0.5,>=0.4.1 in /usr/local/lib/python3.6/dist-packages (from tensorboard<2.1.0,>=2.0.0->tensorflow==2.0.0) (0.4.1)\n",
            "Requirement already satisfied: markdown>=2.6.8 in /usr/local/lib/python3.6/dist-packages (from tensorboard<2.1.0,>=2.0.0->tensorflow==2.0.0) (3.2.2)\n",
            "Requirement already satisfied: h5py in /usr/local/lib/python3.6/dist-packages (from keras-applications>=1.0.8->tensorflow==2.0.0) (2.10.0)\n",
            "Requirement already satisfied: pyasn1-modules>=0.2.1 in /usr/local/lib/python3.6/dist-packages (from google-auth<2,>=1.6.3->tensorboard<2.1.0,>=2.0.0->tensorflow==2.0.0) (0.2.8)\n",
            "Requirement already satisfied: cachetools<5.0,>=2.0.0 in /usr/local/lib/python3.6/dist-packages (from google-auth<2,>=1.6.3->tensorboard<2.1.0,>=2.0.0->tensorflow==2.0.0) (4.1.1)\n",
            "Requirement already satisfied: rsa<5,>=3.1.4; python_version >= \"3\" in /usr/local/lib/python3.6/dist-packages (from google-auth<2,>=1.6.3->tensorboard<2.1.0,>=2.0.0->tensorflow==2.0.0) (4.6)\n",
            "Requirement already satisfied: certifi>=2017.4.17 in /usr/local/lib/python3.6/dist-packages (from requests<3,>=2.21.0->tensorboard<2.1.0,>=2.0.0->tensorflow==2.0.0) (2020.6.20)\n",
            "Requirement already satisfied: idna<3,>=2.5 in /usr/local/lib/python3.6/dist-packages (from requests<3,>=2.21.0->tensorboard<2.1.0,>=2.0.0->tensorflow==2.0.0) (2.10)\n",
            "Requirement already satisfied: chardet<4,>=3.0.2 in /usr/local/lib/python3.6/dist-packages (from requests<3,>=2.21.0->tensorboard<2.1.0,>=2.0.0->tensorflow==2.0.0) (3.0.4)\n",
            "Requirement already satisfied: urllib3!=1.25.0,!=1.25.1,<1.26,>=1.21.1 in /usr/local/lib/python3.6/dist-packages (from requests<3,>=2.21.0->tensorboard<2.1.0,>=2.0.0->tensorflow==2.0.0) (1.24.3)\n",
            "Requirement already satisfied: requests-oauthlib>=0.7.0 in /usr/local/lib/python3.6/dist-packages (from google-auth-oauthlib<0.5,>=0.4.1->tensorboard<2.1.0,>=2.0.0->tensorflow==2.0.0) (1.3.0)\n",
            "Requirement already satisfied: importlib-metadata; python_version < \"3.8\" in /usr/local/lib/python3.6/dist-packages (from markdown>=2.6.8->tensorboard<2.1.0,>=2.0.0->tensorflow==2.0.0) (1.7.0)\n",
            "Requirement already satisfied: pyasn1<0.5.0,>=0.4.6 in /usr/local/lib/python3.6/dist-packages (from pyasn1-modules>=0.2.1->google-auth<2,>=1.6.3->tensorboard<2.1.0,>=2.0.0->tensorflow==2.0.0) (0.4.8)\n",
            "Requirement already satisfied: oauthlib>=3.0.0 in /usr/local/lib/python3.6/dist-packages (from requests-oauthlib>=0.7.0->google-auth-oauthlib<0.5,>=0.4.1->tensorboard<2.1.0,>=2.0.0->tensorflow==2.0.0) (3.1.0)\n",
            "Requirement already satisfied: zipp>=0.5 in /usr/local/lib/python3.6/dist-packages (from importlib-metadata; python_version < \"3.8\"->markdown>=2.6.8->tensorboard<2.1.0,>=2.0.0->tensorflow==2.0.0) (3.1.0)\n",
            "Building wheels for collected packages: gast\n",
            "  Building wheel for gast (setup.py) ... \u001b[?25l\u001b[?25hdone\n",
            "  Created wheel for gast: filename=gast-0.2.2-cp36-none-any.whl size=7540 sha256=8dfe80d25f5be9bf3c48fa997bfc918b898dba7e67d92d83b5825700bc063166\n",
            "  Stored in directory: /root/.cache/pip/wheels/5c/2e/7e/a1d4d4fcebe6c381f378ce7743a3ced3699feb89bcfbdadadd\n",
            "Successfully built gast\n",
            "\u001b[31mERROR: tensorflow-probability 0.10.0 has requirement gast>=0.3.2, but you'll have gast 0.2.2 which is incompatible.\u001b[0m\n",
            "Installing collected packages: tensorboard, tensorflow-estimator, gast, tensorflow\n",
            "  Found existing installation: tensorboard 2.2.2\n",
            "    Uninstalling tensorboard-2.2.2:\n",
            "      Successfully uninstalled tensorboard-2.2.2\n",
            "  Found existing installation: tensorflow-estimator 2.2.0\n",
            "    Uninstalling tensorflow-estimator-2.2.0:\n",
            "      Successfully uninstalled tensorflow-estimator-2.2.0\n",
            "  Found existing installation: gast 0.3.3\n",
            "    Uninstalling gast-0.3.3:\n",
            "      Successfully uninstalled gast-0.3.3\n",
            "  Found existing installation: tensorflow 2.2.0\n",
            "    Uninstalling tensorflow-2.2.0:\n",
            "      Successfully uninstalled tensorflow-2.2.0\n",
            "Successfully installed gast-0.2.2 tensorboard-2.0.2 tensorflow-2.0.0 tensorflow-estimator-2.0.1\n"
          ],
          "name": "stdout"
        }
      ]
    },
    {
      "cell_type": "code",
      "metadata": {
        "colab_type": "code",
        "id": "PnYP_HhYNVUK",
        "colab": {}
      },
      "source": [
        "import os\n",
        "import zipfile\n",
        "local_zip = '/content/data.zip'\n",
        "zip_ref = zipfile.ZipFile(local_zip, 'r')\n",
        "zip_ref.extractall('/content/')\n",
        "zip_ref.close()\n",
        "\n"
      ],
      "execution_count": null,
      "outputs": []
    },
    {
      "cell_type": "code",
      "metadata": {
        "id": "hK52OapjO_yx",
        "colab_type": "code",
        "colab": {
          "base_uri": "https://localhost:8080/",
          "height": 35
        },
        "outputId": "5eced916-1b62-4c97-c12a-6f377974f915"
      },
      "source": [
        "import tensorflow\n",
        "tensorflow.__version__"
      ],
      "execution_count": null,
      "outputs": [
        {
          "output_type": "execute_result",
          "data": {
            "application/vnd.google.colaboratory.intrinsic": {
              "type": "string"
            },
            "text/plain": [
              "'2.0.0'"
            ]
          },
          "metadata": {
            "tags": []
          },
          "execution_count": 1
        }
      ]
    },
    {
      "cell_type": "code",
      "metadata": {
        "id": "lDQuuIpbh0Yr",
        "colab_type": "code",
        "colab": {}
      },
      "source": [
        "import numpy as np\n",
        "import pandas as pd\n",
        "\n",
        "traindataset = pd.read_csv('/content/A_Z/A_Z.csv').astype('float32')"
      ],
      "execution_count": null,
      "outputs": []
    },
    {
      "cell_type": "code",
      "metadata": {
        "id": "-bFW5BotCCJo",
        "colab_type": "code",
        "colab": {
          "base_uri": "https://localhost:8080/",
          "height": 54
        },
        "outputId": "5521f243-9cce-4258-9634-78be5b8d707e"
      },
      "source": [
        "traindataset.rename(columns={'0':'label'}, inplace=True)\n",
        "X = traindataset.drop('label',axis = 1)\n",
        "y = traindataset['label']\n",
        "print(X.shape)\n",
        "print(y.shape)"
      ],
      "execution_count": null,
      "outputs": [
        {
          "output_type": "stream",
          "text": [
            "(372450, 784)\n",
            "(372450,)\n"
          ],
          "name": "stdout"
        }
      ]
    },
    {
      "cell_type": "code",
      "metadata": {
        "id": "WDv7J2z-DXTn",
        "colab_type": "code",
        "colab": {
          "base_uri": "https://localhost:8080/",
          "height": 90
        },
        "outputId": "b0de0fba-fa02-42e1-9292-305505496e03"
      },
      "source": [
        "from sklearn.model_selection import train_test_split\n",
        "train_x, validation_x, train_y, validation_y = train_test_split(X, y)\n",
        "train_y = np.array(train_y, dtype=int)\n",
        "res = np.zeros((train_y.shape[0], 26), dtype=int)\n",
        "res[np.arange(train_y.shape[0]), train_y] = 1\n",
        "train_y = res\n",
        "\n",
        "print('train_x ', train_x.shape)\n",
        "print('train_y', train_y.shape)\n",
        "\n",
        "validation_y = np.array(validation_y, dtype=int)\n",
        "res = np.zeros((validation_y.shape[0], 26), dtype=int)\n",
        "res[np.arange(validation_y.shape[0]), validation_y] = 1\n",
        "validation_y = res\n",
        "\n",
        "print('validation_x', validation_x.shape)\n",
        "print('validation_y', validation_y.shape)"
      ],
      "execution_count": null,
      "outputs": [
        {
          "output_type": "stream",
          "text": [
            "train_x  (279337, 784)\n",
            "train_y (279337, 26)\n",
            "validation_x (93113, 784)\n",
            "validation_y (93113, 26)\n"
          ],
          "name": "stdout"
        }
      ]
    },
    {
      "cell_type": "code",
      "metadata": {
        "id": "YHYB7_X2Ae36",
        "colab_type": "code",
        "colab": {
          "base_uri": "https://localhost:8080/",
          "height": 884
        },
        "outputId": "af10bf29-9256-4b3a-c2f8-0dbdc165aa52"
      },
      "source": [
        "from sklearn.utils import shuffle\n",
        "import matplotlib.pyplot as plt\n",
        "\n",
        "X_shuffle = (train_x)\n",
        "plt.figure(figsize = (12,10))\n",
        "row, colums = 4, 4\n",
        "for i in range(16):  \n",
        "    plt.subplot(colums, row, i+1)\n",
        "    plt.imshow(X_shuffle.iloc[i].values.reshape(28,28),interpolation='nearest', cmap='Greys')\n",
        "    print((train_y[i]))\n",
        "plt.show()"
      ],
      "execution_count": null,
      "outputs": [
        {
          "output_type": "stream",
          "text": [
            "[0 0 0 0 0 0 0 0 0 0 0 0 0 0 0 0 0 0 0 0 0 0 0 0 0 1]\n",
            "[0 0 0 0 0 0 0 0 0 0 0 0 1 0 0 0 0 0 0 0 0 0 0 0 0 0]\n",
            "[0 0 0 0 0 0 0 0 0 0 0 0 0 0 0 0 0 0 0 0 0 0 0 0 1 0]\n",
            "[0 0 0 0 0 0 0 0 0 0 0 0 0 0 0 1 0 0 0 0 0 0 0 0 0 0]\n",
            "[0 0 0 0 0 0 0 0 0 0 0 0 0 0 0 0 0 0 0 0 1 0 0 0 0 0]\n",
            "[0 0 0 0 0 0 0 0 0 0 0 0 0 0 0 0 0 0 0 0 0 0 1 0 0 0]\n",
            "[0 0 0 0 0 0 0 0 0 0 0 0 1 0 0 0 0 0 0 0 0 0 0 0 0 0]\n",
            "[0 0 0 0 0 0 0 0 0 0 0 0 0 0 0 0 0 0 1 0 0 0 0 0 0 0]\n",
            "[0 0 0 0 0 0 0 0 0 0 0 0 0 0 0 0 0 0 1 0 0 0 0 0 0 0]\n",
            "[0 0 0 0 0 0 0 0 0 0 0 0 0 0 1 0 0 0 0 0 0 0 0 0 0 0]\n",
            "[0 0 0 0 0 0 0 0 0 0 0 1 0 0 0 0 0 0 0 0 0 0 0 0 0 0]\n",
            "[0 0 0 0 0 0 0 0 0 0 0 0 0 0 0 0 0 0 1 0 0 0 0 0 0 0]\n",
            "[0 0 0 0 0 0 0 0 0 0 0 0 0 0 1 0 0 0 0 0 0 0 0 0 0 0]\n",
            "[0 0 0 0 0 0 0 0 0 0 1 0 0 0 0 0 0 0 0 0 0 0 0 0 0 0]\n",
            "[0 0 0 0 0 0 0 0 0 0 0 0 0 0 1 0 0 0 0 0 0 0 0 0 0 0]\n",
            "[0 0 0 0 0 0 0 0 0 0 0 0 0 0 0 0 0 0 0 0 0 0 0 0 1 0]\n"
          ],
          "name": "stdout"
        },
        {
          "output_type": "display_data",
          "data": {
            "image/png": "[encoded data removed]",
            "text/plain": [
              "<Figure size 864x720 with 16 Axes>"
            ]
          },
          "metadata": {
            "tags": [],
            "needs_background": "light"
          }
        }
      ]
    },
    {
      "cell_type": "code",
      "metadata": {
        "id": "aCJ5tbTdGTdN",
        "colab_type": "code",
        "colab": {
          "base_uri": "https://localhost:8080/",
          "height": 54
        },
        "outputId": "48f107b3-bc80-45b3-92f3-852dcb25e55d"
      },
      "source": [
        "X = train_x\n",
        "train_x =np.asarray(train_x).reshape([-1, 28, 28, 1])\n",
        "validation_x =np.asarray(validation_x).reshape([-1, 28, 28, 1])\n",
        "print('train_x', train_x.shape)\n",
        "print('validation_x', validation_x.shape)"
      ],
      "execution_count": null,
      "outputs": [
        {
          "output_type": "stream",
          "text": [
            "train_x (279337, 28, 28, 1)\n",
            "validation_x (93113, 28, 28, 1)\n"
          ],
          "name": "stdout"
        }
      ]
    },
    {
      "cell_type": "code",
      "metadata": {
        "id": "oDOUmcwjMLb9",
        "colab_type": "code",
        "colab": {
          "base_uri": "https://localhost:8080/",
          "height": 90
        },
        "outputId": "30eaba75-b3d6-48ec-cc5d-805ce9ef0168"
      },
      "source": [
        "train_x = train_x[:279000]\n",
        "train_y = train_y[:279000]\n",
        "print(\"Training X size, \", train_x.shape)\n",
        "print(\"Training Y size, \", train_y.shape)\n",
        "print(\"Validation X size, \", validation_x.shape)\n",
        "print(\"Validation Y size, \", validation_y.shape)\n",
        "\n"
      ],
      "execution_count": null,
      "outputs": [
        {
          "output_type": "stream",
          "text": [
            "Training X size,  (279000, 28, 28, 1)\n",
            "Training Y size,  (279000, 26)\n",
            "Validation X size,  (93113, 28, 28, 1)\n",
            "Validation Y size,  (93113, 26)\n"
          ],
          "name": "stdout"
        }
      ]
    },
    {
      "cell_type": "code",
      "metadata": {
        "id": "KLOCJS0xMKWP",
        "colab_type": "code",
        "colab": {
          "base_uri": "https://localhost:8080/",
          "height": 490
        },
        "outputId": "8d1675e6-aeaf-4126-e244-a697b11fa5d6"
      },
      "source": [
        "from sklearn.utils import shuffle\n",
        "import matplotlib.pyplot as plt\n",
        "from tensorflow.keras.preprocessing.image import ImageDataGenerator\n",
        "import tensorflow as tf\n",
        "from tensorflow.keras.optimizers import RMSprop\n",
        "\n",
        "model = tf.keras.models.Sequential([\n",
        "    tf.keras.layers.Conv2D(32, 3, padding=\"valid\", input_shape=(28, 28, 1), activation='relu'),\n",
        "    tf.keras.layers.Conv2D(64, 3, activation='relu'),\n",
        "    tf.keras.layers.MaxPool2D(2, 2),\n",
        "    tf.keras.layers.Flatten(),\n",
        "    tf.keras.layers.Dense(256, activation='relu'),\n",
        "    tf.keras.layers.Dropout(0.2),\n",
        "    tf.keras.layers.Dense(64, activation='relu'),\n",
        "    tf.keras.layers.Dense(32, activation='relu'),\n",
        "    tf.keras.layers.Dense(26, activation='softmax')]\n",
        ")\n",
        "model.summary()\n",
        "model.compile(loss='categorical_crossentropy',\n",
        "              optimizer='adam',\n",
        "              metrics=['accuracy'])\n"
      ],
      "execution_count": null,
      "outputs": [
        {
          "output_type": "stream",
          "text": [
            "Model: \"sequential_2\"\n",
            "_________________________________________________________________\n",
            "Layer (type)                 Output Shape              Param #   \n",
            "=================================================================\n",
            "conv2d_4 (Conv2D)            (None, 26, 26, 32)        320       \n",
            "_________________________________________________________________\n",
            "conv2d_5 (Conv2D)            (None, 24, 24, 64)        18496     \n",
            "_________________________________________________________________\n",
            "max_pooling2d_2 (MaxPooling2 (None, 12, 12, 64)        0         \n",
            "_________________________________________________________________\n",
            "flatten_2 (Flatten)          (None, 9216)              0         \n",
            "_________________________________________________________________\n",
            "dense_8 (Dense)              (None, 256)               2359552   \n",
            "_________________________________________________________________\n",
            "dropout_2 (Dropout)          (None, 256)               0         \n",
            "_________________________________________________________________\n",
            "dense_9 (Dense)              (None, 64)                16448     \n",
            "_________________________________________________________________\n",
            "dense_10 (Dense)             (None, 32)                2080      \n",
            "_________________________________________________________________\n",
            "dense_11 (Dense)             (None, 26)                858       \n",
            "=================================================================\n",
            "Total params: 2,397,754\n",
            "Trainable params: 2,397,754\n",
            "Non-trainable params: 0\n",
            "_________________________________________________________________\n"
          ],
          "name": "stdout"
        }
      ]
    },
    {
      "cell_type": "code",
      "metadata": {
        "id": "m1pe7eB3MVRU",
        "colab_type": "code",
        "colab": {
          "base_uri": "https://localhost:8080/",
          "height": 757
        },
        "outputId": "c718d10f-f8a9-4f0a-df46-203d605701dd"
      },
      "source": [
        "\n",
        "\"\"\"\n",
        "train_gen = ImageDataGenerator(1/255)\n",
        "valid_gen = ImageDataGenerator(1/255)\n",
        "valid_gen = ImageDataGenerator(rescale=1/255, rotation_range=40, zoom_range=0.2, fill_mode='nearest',\n",
        "                               width_shift_range=0.2, height_shift_range=0.2)\n",
        "\n",
        "train_gen = train_gen.flow(train_x, train_y)\n",
        "valid_gen = valid_gen.flow(validation_x, validation_y)\n",
        "train_gen.fit(train_x)\n",
        "valid_gen.fit(validation_x)\n",
        "\"\"\"\n",
        "callbacks = tf.keras.callbacks.ModelCheckpoint('alphanetclassifier.h5')\n",
        "\n",
        "history = model.fit(train_x/255, train_y, batch_size=1024,\n",
        "          validation_data=(validation_x/255, validation_y),\n",
        "          epochs=20, verbose=1, callbacks=[callbacks])\n"
      ],
      "execution_count": null,
      "outputs": [
        {
          "output_type": "stream",
          "text": [
            "Train on 279000 samples, validate on 93113 samples\n",
            "Epoch 1/20\n",
            "279000/279000 [==============================] - 667s 2ms/sample - loss: 0.2211 - accuracy: 0.9388 - val_loss: 0.0935 - val_accuracy: 0.9750\n",
            "Epoch 2/20\n",
            "279000/279000 [==============================] - 667s 2ms/sample - loss: 0.0991 - accuracy: 0.9722 - val_loss: 0.0722 - val_accuracy: 0.9806\n",
            "Epoch 3/20\n",
            "279000/279000 [==============================] - 666s 2ms/sample - loss: 0.0744 - accuracy: 0.9792 - val_loss: 0.0584 - val_accuracy: 0.9837\n",
            "Epoch 4/20\n",
            "279000/279000 [==============================] - 665s 2ms/sample - loss: 0.0613 - accuracy: 0.9825 - val_loss: 0.0515 - val_accuracy: 0.9857\n",
            "Epoch 5/20\n",
            "279000/279000 [==============================] - 667s 2ms/sample - loss: 0.0513 - accuracy: 0.9850 - val_loss: 0.0435 - val_accuracy: 0.9881\n",
            "Epoch 6/20\n",
            "279000/279000 [==============================] - 668s 2ms/sample - loss: 0.0444 - accuracy: 0.9871 - val_loss: 0.0425 - val_accuracy: 0.9881\n",
            "Epoch 7/20\n",
            "279000/279000 [==============================] - 672s 2ms/sample - loss: 0.0390 - accuracy: 0.9885 - val_loss: 0.0378 - val_accuracy: 0.9899\n",
            "Epoch 8/20\n",
            "279000/279000 [==============================] - 667s 2ms/sample - loss: 0.0332 - accuracy: 0.9899 - val_loss: 0.0362 - val_accuracy: 0.9904\n",
            "Epoch 9/20\n",
            "279000/279000 [==============================] - 669s 2ms/sample - loss: 0.0287 - accuracy: 0.9910 - val_loss: 0.0335 - val_accuracy: 0.9914\n",
            "Epoch 10/20\n",
            "279000/279000 [==============================] - 670s 2ms/sample - loss: 0.0270 - accuracy: 0.9916 - val_loss: 0.0319 - val_accuracy: 0.9918\n",
            "Epoch 11/20\n",
            "279000/279000 [==============================] - 666s 2ms/sample - loss: 0.0234 - accuracy: 0.9924 - val_loss: 0.0298 - val_accuracy: 0.9924\n",
            "Epoch 12/20\n",
            "279000/279000 [==============================] - 667s 2ms/sample - loss: 0.0201 - accuracy: 0.9938 - val_loss: 0.0296 - val_accuracy: 0.9925\n",
            "Epoch 13/20\n",
            "279000/279000 [==============================] - 665s 2ms/sample - loss: 0.0186 - accuracy: 0.9940 - val_loss: 0.0270 - val_accuracy: 0.9931\n",
            "Epoch 14/20\n",
            "279000/279000 [==============================] - 667s 2ms/sample - loss: 0.0166 - accuracy: 0.9946 - val_loss: 0.0267 - val_accuracy: 0.9933\n",
            "Epoch 15/20\n",
            "279000/279000 [==============================] - 667s 2ms/sample - loss: 0.0150 - accuracy: 0.9952 - val_loss: 0.0266 - val_accuracy: 0.9938\n",
            "Epoch 16/20\n",
            "279000/279000 [==============================] - 667s 2ms/sample - loss: 0.0146 - accuracy: 0.9952 - val_loss: 0.0264 - val_accuracy: 0.9941\n",
            "Epoch 17/20\n",
            "279000/279000 [==============================] - 667s 2ms/sample - loss: 0.0133 - accuracy: 0.9956 - val_loss: 0.0272 - val_accuracy: 0.9936\n",
            "Epoch 18/20\n",
            "279000/279000 [==============================] - 666s 2ms/sample - loss: 0.0125 - accuracy: 0.9958 - val_loss: 0.0285 - val_accuracy: 0.9929\n",
            "Epoch 19/20\n",
            "279000/279000 [==============================] - 666s 2ms/sample - loss: 0.0107 - accuracy: 0.9965 - val_loss: 0.0244 - val_accuracy: 0.9947\n",
            "Epoch 20/20\n",
            "279000/279000 [==============================] - 666s 2ms/sample - loss: 0.0100 - accuracy: 0.9966 - val_loss: 0.0267 - val_accuracy: 0.9944\n"
          ],
          "name": "stdout"
        }
      ]
    },
    {
      "cell_type": "code",
      "metadata": {
        "id": "ILMvLfXtMbm4",
        "colab_type": "code",
        "colab": {
          "base_uri": "https://localhost:8080/",
          "height": 573
        },
        "outputId": "3a02ec76-de91-49ce-dc51-db0336fa874d"
      },
      "source": [
        "# summarize history for accuracy\n",
        "plt.plot(history.history['accuracy'])\n",
        "plt.plot(history.history['val_accuracy'])\n",
        "plt.title('model accuracy')\n",
        "plt.ylabel('accuracy')\n",
        "plt.xlabel('epoch')\n",
        "plt.legend(['train', 'test'], loc='upper left')\n",
        "plt.show()\n",
        "# summarize history for loss\n",
        "plt.plot(history.history['loss'])\n",
        "plt.plot(history.history['val_loss'])\n",
        "plt.title('model loss')\n",
        "plt.ylabel('loss')\n",
        "plt.xlabel('epoch')\n",
        "plt.legend(['train', 'test'], loc='upper left')\n",
        "plt.show()"
      ],
      "execution_count": null,
      "outputs": [
        {
          "output_type": "display_data",
          "data": {
            "image/png": "[encoded data removed]",
            "text/plain": [
              "<Figure size 432x288 with 1 Axes>"
            ]
          },
          "metadata": {
            "tags": [],
            "needs_background": "light"
          }
        },
        {
          "output_type": "display_data",
          "data": {
            "image/png": "[encoded data removed]",
            "text/plain": [
              "<Figure size 432x288 with 1 Axes>"
            ]
          },
          "metadata": {
            "tags": [],
            "needs_background": "light"
          }
        }
      ]
    },
    {
      "cell_type": "code",
      "metadata": {
        "id": "DCklDX5EOTBE",
        "colab_type": "code",
        "colab": {
          "base_uri": "https://localhost:8080/",
          "height": 35
        },
        "outputId": "3ad7f724-3909-4774-aea6-1c4f37f4a239"
      },
      "source": [
        "import tensorflow\n",
        "tensorflow.__version__"
      ],
      "execution_count": null,
      "outputs": [
        {
          "output_type": "execute_result",
          "data": {
            "application/vnd.google.colaboratory.intrinsic": {
              "type": "string"
            },
            "text/plain": [
              "'2.0.0'"
            ]
          },
          "metadata": {
            "tags": []
          },
          "execution_count": 6
        }
      ]
    },
    {
      "cell_type": "code",
      "metadata": {
        "id": "QoY0OmhWl9fP",
        "colab_type": "code",
        "colab": {}
      },
      "source": [
        ""
      ],
      "execution_count": null,
      "outputs": []
    }
  ]
}